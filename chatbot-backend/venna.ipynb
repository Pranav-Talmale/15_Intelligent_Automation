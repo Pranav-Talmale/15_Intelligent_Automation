{
 "cells": [
  {
   "cell_type": "code",
   "execution_count": 5,
   "id": "6b6a09a1-50be-404e-8140-9af5a585432e",
   "metadata": {},
   "outputs": [
    {
     "name": "stdout",
     "output_type": "stream",
     "text": [
      "Requirement already satisfied: vanna in f:\\anaconda\\lib\\site-packages (0.3.3)\n",
      "Requirement already satisfied: requests in f:\\anaconda\\lib\\site-packages (from vanna) (2.31.0)\n",
      "Requirement already satisfied: tabulate in f:\\anaconda\\lib\\site-packages (from vanna) (0.9.0)\n",
      "Requirement already satisfied: plotly in f:\\anaconda\\lib\\site-packages (from vanna) (5.9.0)\n",
      "Requirement already satisfied: pandas in f:\\anaconda\\lib\\site-packages (from vanna) (2.1.4)\n",
      "Requirement already satisfied: sqlparse in f:\\anaconda\\lib\\site-packages (from vanna) (0.4.4)\n",
      "Requirement already satisfied: kaleido in f:\\anaconda\\lib\\site-packages (from vanna) (0.2.1)\n",
      "Requirement already satisfied: flask in f:\\anaconda\\lib\\site-packages (from vanna) (2.2.5)\n",
      "Requirement already satisfied: sqlalchemy in f:\\anaconda\\lib\\site-packages (from vanna) (2.0.25)\n",
      "Requirement already satisfied: Werkzeug>=2.2.2 in f:\\anaconda\\lib\\site-packages (from flask->vanna) (2.2.3)\n",
      "Requirement already satisfied: Jinja2>=3.0 in f:\\anaconda\\lib\\site-packages (from flask->vanna) (3.1.3)\n",
      "Requirement already satisfied: itsdangerous>=2.0 in f:\\anaconda\\lib\\site-packages (from flask->vanna) (2.0.1)\n",
      "Requirement already satisfied: click>=8.0 in f:\\anaconda\\lib\\site-packages (from flask->vanna) (8.1.7)\n",
      "Requirement already satisfied: numpy<2,>=1.23.2 in f:\\anaconda\\lib\\site-packages (from pandas->vanna) (1.26.4)\n",
      "Requirement already satisfied: python-dateutil>=2.8.2 in f:\\anaconda\\lib\\site-packages (from pandas->vanna) (2.8.2)\n",
      "Requirement already satisfied: pytz>=2020.1 in f:\\anaconda\\lib\\site-packages (from pandas->vanna) (2023.3.post1)\n",
      "Requirement already satisfied: tzdata>=2022.1 in f:\\anaconda\\lib\\site-packages (from pandas->vanna) (2023.3)\n",
      "Requirement already satisfied: tenacity>=6.2.0 in f:\\anaconda\\lib\\site-packages (from plotly->vanna) (8.2.2)\n",
      "Requirement already satisfied: charset-normalizer<4,>=2 in f:\\anaconda\\lib\\site-packages (from requests->vanna) (2.0.4)\n",
      "Requirement already satisfied: idna<4,>=2.5 in f:\\anaconda\\lib\\site-packages (from requests->vanna) (3.4)\n",
      "Requirement already satisfied: urllib3<3,>=1.21.1 in f:\\anaconda\\lib\\site-packages (from requests->vanna) (2.0.7)\n",
      "Requirement already satisfied: certifi>=2017.4.17 in f:\\anaconda\\lib\\site-packages (from requests->vanna) (2024.2.2)\n",
      "Requirement already satisfied: typing-extensions>=4.6.0 in f:\\anaconda\\lib\\site-packages (from sqlalchemy->vanna) (4.9.0)\n",
      "Requirement already satisfied: greenlet!=0.4.17 in f:\\anaconda\\lib\\site-packages (from sqlalchemy->vanna) (3.0.1)\n",
      "Requirement already satisfied: colorama in f:\\anaconda\\lib\\site-packages (from click>=8.0->flask->vanna) (0.4.6)\n",
      "Requirement already satisfied: MarkupSafe>=2.0 in f:\\anaconda\\lib\\site-packages (from Jinja2>=3.0->flask->vanna) (2.1.3)\n",
      "Requirement already satisfied: six>=1.5 in f:\\anaconda\\lib\\site-packages (from python-dateutil>=2.8.2->pandas->vanna) (1.16.0)\n",
      "Collecting pymysql\n",
      "  Downloading PyMySQL-1.1.0-py3-none-any.whl.metadata (4.4 kB)\n",
      "Downloading PyMySQL-1.1.0-py3-none-any.whl (44 kB)\n",
      "   ---------------------------------------- 0.0/44.8 kB ? eta -:--:--\n",
      "   ------------------ --------------------- 20.5/44.8 kB 640.0 kB/s eta 0:00:01\n",
      "   ---------------------------------------- 44.8/44.8 kB 1.1 MB/s eta 0:00:00\n",
      "Installing collected packages: pymysql\n",
      "Successfully installed pymysql-1.1.0\n"
     ]
    }
   ],
   "source": [
    "!pip install vanna\n",
    "!pip install pymysql"
   ]
  },
  {
   "cell_type": "code",
   "execution_count": 1,
   "id": "3d847e7b-acac-4c0e-aa3f-cb7c8fbdb2a8",
   "metadata": {},
   "outputs": [],
   "source": [
    "from vanna.flask import VannaFlaskApp\n",
    "from vanna.ollama import Ollama\n",
    "from vanna.vannadb.vannadb_vector import VannaDB_VectorStore"
   ]
  },
  {
   "cell_type": "code",
   "execution_count": 3,
   "id": "e9077b8e-b35c-485d-9084-3697b8c2b7d3",
   "metadata": {},
   "outputs": [],
   "source": [
    "class MyVanna(VannaDB_VectorStore, Ollama):\n",
    "    def __init__(self, config=None):\n",
    "        MY_VANNA_MODEL = \"chinnok\"\n",
    "        VannaDB_VectorStore.__init__(self, vanna_model=MY_VANNA_MODEL, vanna_api_key=\"b74e1cedb9064cc0ba33b7d4fb2e47c9\", config=config)\n",
    "        Ollama.__init__(self, config=config)\n",
    "\n",
    "vn = MyVanna(config={'model': 'mistral'})\n",
    "\n",
    "#summary = vn.allow_llm_to_see_data(question=my_question, df=df)\n",
    "\n",
    "#Connect to DB\n",
    "vn.connect_to_mysql(\n",
    "    host=\"localhost\",\n",
    "    dbname=\"emp_database\",\n",
    "    user=\"root\",\n",
    "    password=\"12345\",\n",
    "    port=3306\n",
    ")"
   ]
  },
  {
   "cell_type": "code",
   "execution_count": 4,
   "id": "c6962b51-1a43-49f9-a622-29aef5ccfe71",
   "metadata": {},
   "outputs": [],
   "source": [
    "app = VannaFlaskApp(vn, allow_llm_to_see_data=True)"
   ]
  },
  {
   "cell_type": "code",
   "execution_count": null,
   "id": "5c3c260b-9bf5-43ad-87c5-ad23108baf9f",
   "metadata": {},
   "outputs": [
    {
     "name": "stdout",
     "output_type": "stream",
     "text": [
      "Your app is running at:\n",
      "http://localhost:8084\n",
      " * Serving Flask app 'vanna.flask'\n",
      " * Debug mode: off\n",
      "[{'role': 'system', 'content': \"The user provides a question and you provide SQL. You will only respond with SQL code and not with any explanations.\\n\\nRespond with only SQL code. Do not answer with any explanations -- just the code.\\n\\nYou may use the following DDL statements as a reference for what tables might be available. Use responses to past questions also to guide you:\\n\\nCREATE TABLE Leaves (\\n    LeaveID INT AUTO_INCREMENT PRIMARY KEY,\\n    EmployeeID INT,\\n    LeaveType ENUM('Vacation', 'Sick', 'Maternity/Paternity'),\\n    StartDate DATE,\\n    EndDate DATE,\\n    Status ENUM('Pending', 'Approved', 'Rejected'),\\n    FOREIGN KEY (EmployeeID) REFERENCES Employees(EmployeeID)\\n);\\n\\nCREATE TABLE Employees (\\n    EmployeeID INT AUTO_INCREMENT PRIMARY KEY,\\n    FirstName VARCHAR(100),\\n    LastName VARCHAR(100),\\n    DateOfBirth DATE,\\n    Gender ENUM('Male', 'Female', 'Other'),\\n    ContactInfo JSON,\\n    Address VARCHAR(255),\\n    HireDate DATE,\\n    DepartmentID INT,\\n    RoleID INT,\\n    Status ENUM('Active', 'Inactive'),\\n    FOREIGN KEY (DepartmentID) REFERENCES Departments(DepartmentID),\\n    FOREIGN KEY (RoleID) REFERENCES EmployeeRoles(RoleID)\\n);\\n\\nCREATE TABLE Attendance (\\n    AttendanceID INT AUTO_INCREMENT PRIMARY KEY,\\n    EmployeeID INT,\\n    ClockInTime DATETIME,\\n    ClockOutTime DATETIME,\\n    Date DATE,\\n    HoursWorked DECIMAL(5,2),\\n    OvertimeHours DECIMAL(5,2),\\n    FOREIGN KEY (EmployeeID) REFERENCES Employees(EmployeeID)\\n);\\n\\nCREATE TABLE EmployeeRoles (\\n    RoleID INT AUTO_INCREMENT PRIMARY KEY,\\n    RoleName VARCHAR(100),\\n    Description TEXT\\n);\\n\\nCREATE TABLE Benefits (\\n    BenefitID INT AUTO_INCREMENT PRIMARY KEY,\\n    EmployeeID INT,\\n    BenefitType ENUM('Insurance', 'Retirement Plan', 'Allowances'),\\n    Details JSON,\\n    FOREIGN KEY (EmployeeID) REFERENCES Employees(EmployeeID)\\n);\\n\\n\\nCREATE TABLE Salaries (\\n    SalaryID INT AUTO_INCREMENT PRIMARY KEY,\\n    EmployeeID INT,\\n    BaseSalary DECIMAL(10,2),\\n    Deductions DECIMAL(10,2),\\n    Bonuses DECIMAL(10,2),\\n    NetSalary DECIMAL(10,2),\\n    EffectiveDate DATE,\\n    FOREIGN KEY (EmployeeID) REFERENCES Employees(EmployeeID)\\n);\\n\\n\\nCREATE TABLE Salaries (\\n    SalaryID INT AUTO_INCREMENT PRIMARY KEY,\\n    EmployeeID INT,\\n    BaseSalary DECIMAL(10,2),\\n    Deductions DECIMAL(10,2),\\n    Bonuses DECIMAL(10,2),\\n    NetSalary DECIMAL(10,2),\\n    EffectiveDate DATE,\\n    FOREIGN KEY (EmployeeID) REFERENCES Employees(EmployeeID)\\n);\\n\\n\\nCREATE TABLE Departments (\\n    DepartmentID INT AUTO_INCREMENT PRIMARY KEY,\\n    DepartmentName VARCHAR(100)\\n);\\n\\nCREATE TABLE PerformanceEvaluations (\\n    EvaluationID INT AUTO_INCREMENT PRIMARY KEY,\\n    EmployeeID INT,\\n    Date DATE,\\n    PerformanceScore VARCHAR(100),\\n    Feedback TEXT,\\n    Goals JSON,\\n    FOREIGN KEY (EmployeeID) REFERENCES Employees(EmployeeID)\\n);\\n\\n\\nYou may use the following documentation as a reference for what tables might be available. Use responses to past questions also to guide you:\\n\\nSample query for adding new information in the leaves table: \\nINSERT INTO Leaves (EmployeeID, LeaveType, StartDate, EndDate, Status) VALUES (1, 'Vacation', '2024-04-01', '2024-04-15', 'Pending');\\n\\nAlways make sure employee id, LeaveType and StartDate are given, otherwise error out\\n\\nEmployee table has 11 columns, EmployeeID, FirstName, LastName, DateOfBirth, Gender, ContactInfo, Address, HireDate, DepartmentID, RoleID, Status\\n\\n\"}, {'role': 'user', 'content': 'what is leave type and status of employee 3'}, {'role': 'assistant', 'content': 'SELECT LeaveType, Status\\nFROM Leaves\\nWHERE EmployeeID = 3;'}, {'role': 'user', 'content': 'first 3 entries in employees table '}, {'role': 'assistant', 'content': 'SELECT * \\nFROM employees \\nLIMIT 3;'}, {'role': 'user', 'content': 'explain the details of 2nd employee'}, {'role': 'assistant', 'content': 'SELECT * \\nFROM Employees\\nWHERE EmployeeID = 2;'}, {'role': 'user', 'content': 'salary of john doe'}, {'role': 'assistant', 'content': \"SELECT BaseSalary, Deductions, Bonuses, NetSalary\\nFROM Salaries\\nJOIN Employees ON Salaries.EmployeeID = Employees.EmployeeID\\nWHERE Employees.FirstName = 'John' AND Employees.LastName = 'Doe';\"}, {'role': 'user', 'content': 'first 10 entries in employees table'}, {'role': 'assistant', 'content': 'SELECT * \\nFROM employees \\nLIMIT 10;'}, {'role': 'user', 'content': 'what is leave type and status of employee 3'}]\n",
      "{\"model\":\"mistral\",\"created_at\":\"2024-04-07T05:19:22.3011883Z\",\"message\":{\"role\":\"assistant\",\"content\":\"SELECT L.LeaveType, L.Status\\nFROM Leaves L\\nJOIN Employees E ON L.EmployeeID = E.EmployeeID\\nWHERE E.EmployeeID = 3;\"},\"done\":true,\"total_duration\":6360240700,\"load_duration\":4156074800,\"prompt_eval_count\":1356,\"prompt_eval_duration\":1106258000,\"eval_count\":46,\"eval_duration\":1091504000}\n",
      "SELECT L.LeaveType, L.Status\n",
      "FROM Leaves L\n",
      "JOIN Employees E ON L.EmployeeID = E.EmployeeID\n",
      "WHERE E.EmployeeID = 3;\n",
      "{\"model\":\"mistral\",\"created_at\":\"2024-04-07T05:19:27.622291Z\",\"message\":{\"role\":\"assistant\",\"content\":\" ```python\\nimport plotly.express as px\\n\\nfig = px.bar(df, x=\\\"Status\\\", title=\\\"Employee 3 Leave Status\\\") if len(df) \\u003e 1 else px.indicator(df.iloc[0].Name, text=df.iloc[0][\\\"Status\\\"], title=\\\"Leave Status\\\", color='green' if df.iloc[0][\\\"Status\\\"] == 'Approved' else 'red')\\nfig.show()\\n```\"},\"done\":true,\"total_duration\":2962384500,\"load_duration\":1156100,\"prompt_eval_count\":199,\"prompt_eval_duration\":421628000,\"eval_count\":106,\"eval_duration\":2536715000}\n",
      "{\"model\":\"mistral\",\"created_at\":\"2024-04-07T05:19:31.4653639Z\",\"message\":{\"role\":\"assistant\",\"content\":\" The leave type for employee 3 is \\\"Maternity/Paternity\\\" and the status is \\\"Pending.\\\"\"},\"done\":true,\"total_duration\":962813500,\"load_duration\":1246000,\"prompt_eval_count\":114,\"prompt_eval_duration\":345868000,\"eval_count\":25,\"eval_duration\":613092000}\n",
      "{\"model\":\"mistral\",\"created_at\":\"2024-04-07T05:19:51.2369469Z\",\"message\":{\"role\":\"assistant\",\"content\":\" 1. What is the total number of leaves of type Maternity/Paternity that are pending for employee 3?\\n   SELECT COUNT(*) FROM Leaves L WHERE L.LeaveType = 'Maternity/Paternity' AND L.Status = 'Pending' AND L.EmployeeID = 3;\\n\\n2. What is the total number of leaves, regardless of type or status, for employee 3?\\n   SELECT COUNT(*) FROM Leaves L WHERE L.EmployeeID = 3;\\n\\n3. When was the most recent leave request made by employee 3, and what was its type and status?\\n   SEORDER BY L.Date DESC\\n   SELECT Top 1 LeaveType, Status\\n   FROM Leaves L\\n   WHERE L.EmployeeID = 3;\\n\\n4. What is the average length of leaves (in days) taken by employee 3, for each leave type?\\n   SELECT LeaveType, AVG(DaysTaken)\\n   FROM Leaves L\\n   WHERE L.EmployeeID = 3\\n   GROUP BY LeaveType;\\n\\n5. Which months has employee 3 taken the most leaves (in total days) during the past year?\\n   SELECT DATE_FORMAT(Date, '%Y-%m') AS Month, SUM(DaysTaken) as TotalDays\\n   FROM Leaves L\\n   WHERE L.EmployeeID = 3\\n   GROUP BY Month\\n   ORDER BY TotalDays DESC\\n   LIMIT 1;\"},\"done\":true,\"total_duration\":8140545000,\"load_duration\":1095300,\"prompt_eval_count\":263,\"prompt_eval_duration\":295654000,\"eval_count\":344,\"eval_duration\":7840464000}\n",
      "[{'role': 'system', 'content': \"The user provides a question and you provide SQL. You will only respond with SQL code and not with any explanations.\\n\\nRespond with only SQL code. Do not answer with any explanations -- just the code.\\n\\nYou may use the following DDL statements as a reference for what tables might be available. Use responses to past questions also to guide you:\\n\\nCREATE TABLE Leaves (\\n    LeaveID INT AUTO_INCREMENT PRIMARY KEY,\\n    EmployeeID INT,\\n    LeaveType ENUM('Vacation', 'Sick', 'Maternity/Paternity'),\\n    StartDate DATE,\\n    EndDate DATE,\\n    Status ENUM('Pending', 'Approved', 'Rejected'),\\n    FOREIGN KEY (EmployeeID) REFERENCES Employees(EmployeeID)\\n);\\n\\nCREATE TABLE Employees (\\n    EmployeeID INT AUTO_INCREMENT PRIMARY KEY,\\n    FirstName VARCHAR(100),\\n    LastName VARCHAR(100),\\n    DateOfBirth DATE,\\n    Gender ENUM('Male', 'Female', 'Other'),\\n    ContactInfo JSON,\\n    Address VARCHAR(255),\\n    HireDate DATE,\\n    DepartmentID INT,\\n    RoleID INT,\\n    Status ENUM('Active', 'Inactive'),\\n    FOREIGN KEY (DepartmentID) REFERENCES Departments(DepartmentID),\\n    FOREIGN KEY (RoleID) REFERENCES EmployeeRoles(RoleID)\\n);\\n\\nCREATE TABLE Benefits (\\n    BenefitID INT AUTO_INCREMENT PRIMARY KEY,\\n    EmployeeID INT,\\n    BenefitType ENUM('Insurance', 'Retirement Plan', 'Allowances'),\\n    Details JSON,\\n    FOREIGN KEY (EmployeeID) REFERENCES Employees(EmployeeID)\\n);\\n\\n\\nCREATE TABLE Attendance (\\n    AttendanceID INT AUTO_INCREMENT PRIMARY KEY,\\n    EmployeeID INT,\\n    ClockInTime DATETIME,\\n    ClockOutTime DATETIME,\\n    Date DATE,\\n    HoursWorked DECIMAL(5,2),\\n    OvertimeHours DECIMAL(5,2),\\n    FOREIGN KEY (EmployeeID) REFERENCES Employees(EmployeeID)\\n);\\n\\nCREATE TABLE Departments (\\n    DepartmentID INT AUTO_INCREMENT PRIMARY KEY,\\n    DepartmentName VARCHAR(100)\\n);\\n\\nCREATE TABLE EmployeeRoles (\\n    RoleID INT AUTO_INCREMENT PRIMARY KEY,\\n    RoleName VARCHAR(100),\\n    Description TEXT\\n);\\n\\nCREATE TABLE Salaries (\\n    SalaryID INT AUTO_INCREMENT PRIMARY KEY,\\n    EmployeeID INT,\\n    BaseSalary DECIMAL(10,2),\\n    Deductions DECIMAL(10,2),\\n    Bonuses DECIMAL(10,2),\\n    NetSalary DECIMAL(10,2),\\n    EffectiveDate DATE,\\n    FOREIGN KEY (EmployeeID) REFERENCES Employees(EmployeeID)\\n);\\n\\n\\nCREATE TABLE Salaries (\\n    SalaryID INT AUTO_INCREMENT PRIMARY KEY,\\n    EmployeeID INT,\\n    BaseSalary DECIMAL(10,2),\\n    Deductions DECIMAL(10,2),\\n    Bonuses DECIMAL(10,2),\\n    NetSalary DECIMAL(10,2),\\n    EffectiveDate DATE,\\n    FOREIGN KEY (EmployeeID) REFERENCES Employees(EmployeeID)\\n);\\n\\n\\nCREATE TABLE PerformanceEvaluations (\\n    EvaluationID INT AUTO_INCREMENT PRIMARY KEY,\\n    EmployeeID INT,\\n    Date DATE,\\n    PerformanceScore VARCHAR(100),\\n    Feedback TEXT,\\n    Goals JSON,\\n    FOREIGN KEY (EmployeeID) REFERENCES Employees(EmployeeID)\\n);\\n\\n\\nYou may use the following documentation as a reference for what tables might be available. Use responses to past questions also to guide you:\\n\\nSample query for adding new information in the leaves table: \\nINSERT INTO Leaves (EmployeeID, LeaveType, StartDate, EndDate, Status) VALUES (1, 'Vacation', '2024-04-01', '2024-04-15', 'Pending');\\n\\nAlways make sure employee id, LeaveType and StartDate are given, otherwise error out\\n\\nEmployee table has 11 columns, EmployeeID, FirstName, LastName, DateOfBirth, Gender, ContactInfo, Address, HireDate, DepartmentID, RoleID, Status\\n\\n\"}, {'role': 'user', 'content': 'what is leave type and status of employee 3'}, {'role': 'assistant', 'content': 'SELECT LeaveType, Status\\nFROM Leaves\\nWHERE EmployeeID = 3;'}, {'role': 'user', 'content': 'first 3 entries in employees table '}, {'role': 'assistant', 'content': 'SELECT * \\nFROM employees \\nLIMIT 3;'}, {'role': 'user', 'content': 'explain the details of 2nd employee'}, {'role': 'assistant', 'content': 'SELECT * \\nFROM Employees\\nWHERE EmployeeID = 2;'}, {'role': 'user', 'content': 'first 10 entries in employees table'}, {'role': 'assistant', 'content': 'SELECT * \\nFROM employees \\nLIMIT 10;'}, {'role': 'user', 'content': 'salary of john doe'}, {'role': 'assistant', 'content': \"SELECT BaseSalary, Deductions, Bonuses, NetSalary\\nFROM Salaries\\nJOIN Employees ON Salaries.EmployeeID = Employees.EmployeeID\\nWHERE Employees.FirstName = 'John' AND Employees.LastName = 'Doe';\"}, {'role': 'user', 'content': 'What is the total number of leaves, regardless of type or status, for employee 3?'}]\n",
      "{\"model\":\"mistral\",\"created_at\":\"2024-04-07T05:20:20.7770039Z\",\"message\":{\"role\":\"assistant\",\"content\":\" SELECT COUNT(*) FROM Leaves WHERE EmployeeID = 3;\"},\"done\":true,\"total_duration\":1767633400,\"load_duration\":1462100,\"prompt_eval_count\":1361,\"prompt_eval_duration\":1341760000,\"eval_count\":18,\"eval_duration\":417978000}\n",
      " SELECT COUNT(*) FROM Leaves WHERE EmployeeID = 3;\n",
      "{\"model\":\"mistral\",\"created_at\":\"2024-04-07T05:20:25.9358315Z\",\"message\":{\"role\":\"assistant\",\"content\":\" ```python\\nimport plotly.graph_objs as go\\n\\nfig = go.Figure(data=go.Indicator(\\n    mode=\\\"gauge+number+delta\\\",\\n    value=df.iloc[0],\\n    title=\\\"Total Number of Leaves (Employee 3)\\\",\\n))\\n\\nfig.update_layout(width=400, height=400)\\nfig.show()\\n```\"},\"done\":true,\"total_duration\":2548486300,\"load_duration\":1229800,\"prompt_eval_count\":178,\"prompt_eval_duration\":352088000,\"eval_count\":95,\"eval_duration\":2192884000}\n",
      "{\"model\":\"mistral\",\"created_at\":\"2024-04-07T05:20:28.8885451Z\",\"message\":{\"role\":\"assistant\",\"content\":\" The DataFrame does not provide the information requested for employee 3 regarding the total number of leaves.\"},\"done\":true,\"total_duration\":793852600,\"load_duration\":575500,\"prompt_eval_count\":108,\"prompt_eval_duration\":320533000,\"eval_count\":21,\"eval_duration\":470925000}\n",
      "{\"model\":\"mistral\",\"created_at\":\"2024-04-07T05:20:40.9591069Z\",\"message\":{\"role\":\"assistant\",\"content\":\" 1. What is the total number of approved leaves for employee 3?\\n   SQL query: SELECT COUNT(*) FROM Leaves WHERE EmployeeID = 3 AND Status = 'Approved';\\n\\n2. How many leaves, regardless of type, have been submitted by employee 3 but not yet approved?\\n   SQL query: SELECT COUNT(*) FROM Leaves WHERE EmployeeID = 3 AND Status != 'Approved';\\n\\n3. What is the total number of sick leaves taken by employee 3 in the current year?\\n   SQL query: SELECT COUNT(*) FROM Leaves WHERE EmployeeID = 3 AND Type = 'Sick' AND Year = YEAR(CURRENT_DATE());\\n\\n4. How many leaves have been taken by employee 3 during each month of the current year?\\n   SQL query: SELECT MONTH(Date) AS Month, COUNT(*) AS LeavesTaken FROM Leaves WHERE EmployeeID = 3 AND Year = YEAR(CURRENT_DATE()) GROUP BY Month;\\n\\n5. What is the average number of leaves taken per month by employee 3 in the current year?\\n   SQL query: SELECT AVG(COUNT(*)) OVER (ORDER BY MONTH(Date) ROWS BETWEEN UNBOUNDED PRECEDING AND CURRENT ROW) AS AverageLeavesPerMonth FROM Leaves WHERE EmployeeID = 3 AND Year = YEAR(CURRENT_DATE());\"},\"done\":true,\"total_duration\":7730037700,\"load_duration\":1482900,\"prompt_eval_count\":220,\"prompt_eval_duration\":426779000,\"eval_count\":322,\"eval_duration\":7298821000}\n",
      "[{'role': 'system', 'content': \"The user provides a question and you provide SQL. You will only respond with SQL code and not with any explanations.\\n\\nRespond with only SQL code. Do not answer with any explanations -- just the code.\\n\\nYou may use the following DDL statements as a reference for what tables might be available. Use responses to past questions also to guide you:\\n\\nCREATE TABLE Leaves (\\n    LeaveID INT AUTO_INCREMENT PRIMARY KEY,\\n    EmployeeID INT,\\n    LeaveType ENUM('Vacation', 'Sick', 'Maternity/Paternity'),\\n    StartDate DATE,\\n    EndDate DATE,\\n    Status ENUM('Pending', 'Approved', 'Rejected'),\\n    FOREIGN KEY (EmployeeID) REFERENCES Employees(EmployeeID)\\n);\\n\\nCREATE TABLE Employees (\\n    EmployeeID INT AUTO_INCREMENT PRIMARY KEY,\\n    FirstName VARCHAR(100),\\n    LastName VARCHAR(100),\\n    DateOfBirth DATE,\\n    Gender ENUM('Male', 'Female', 'Other'),\\n    ContactInfo JSON,\\n    Address VARCHAR(255),\\n    HireDate DATE,\\n    DepartmentID INT,\\n    RoleID INT,\\n    Status ENUM('Active', 'Inactive'),\\n    FOREIGN KEY (DepartmentID) REFERENCES Departments(DepartmentID),\\n    FOREIGN KEY (RoleID) REFERENCES EmployeeRoles(RoleID)\\n);\\n\\nCREATE TABLE EmployeeRoles (\\n    RoleID INT AUTO_INCREMENT PRIMARY KEY,\\n    RoleName VARCHAR(100),\\n    Description TEXT\\n);\\n\\nCREATE TABLE Attendance (\\n    AttendanceID INT AUTO_INCREMENT PRIMARY KEY,\\n    EmployeeID INT,\\n    ClockInTime DATETIME,\\n    ClockOutTime DATETIME,\\n    Date DATE,\\n    HoursWorked DECIMAL(5,2),\\n    OvertimeHours DECIMAL(5,2),\\n    FOREIGN KEY (EmployeeID) REFERENCES Employees(EmployeeID)\\n);\\n\\nCREATE TABLE Benefits (\\n    BenefitID INT AUTO_INCREMENT PRIMARY KEY,\\n    EmployeeID INT,\\n    BenefitType ENUM('Insurance', 'Retirement Plan', 'Allowances'),\\n    Details JSON,\\n    FOREIGN KEY (EmployeeID) REFERENCES Employees(EmployeeID)\\n);\\n\\n\\nCREATE TABLE Departments (\\n    DepartmentID INT AUTO_INCREMENT PRIMARY KEY,\\n    DepartmentName VARCHAR(100)\\n);\\n\\nCREATE TABLE Salaries (\\n    SalaryID INT AUTO_INCREMENT PRIMARY KEY,\\n    EmployeeID INT,\\n    BaseSalary DECIMAL(10,2),\\n    Deductions DECIMAL(10,2),\\n    Bonuses DECIMAL(10,2),\\n    NetSalary DECIMAL(10,2),\\n    EffectiveDate DATE,\\n    FOREIGN KEY (EmployeeID) REFERENCES Employees(EmployeeID)\\n);\\n\\n\\nCREATE TABLE Salaries (\\n    SalaryID INT AUTO_INCREMENT PRIMARY KEY,\\n    EmployeeID INT,\\n    BaseSalary DECIMAL(10,2),\\n    Deductions DECIMAL(10,2),\\n    Bonuses DECIMAL(10,2),\\n    NetSalary DECIMAL(10,2),\\n    EffectiveDate DATE,\\n    FOREIGN KEY (EmployeeID) REFERENCES Employees(EmployeeID)\\n);\\n\\n\\nCREATE TABLE PerformanceEvaluations (\\n    EvaluationID INT AUTO_INCREMENT PRIMARY KEY,\\n    EmployeeID INT,\\n    Date DATE,\\n    PerformanceScore VARCHAR(100),\\n    Feedback TEXT,\\n    Goals JSON,\\n    FOREIGN KEY (EmployeeID) REFERENCES Employees(EmployeeID)\\n);\\n\\n\\nYou may use the following documentation as a reference for what tables might be available. Use responses to past questions also to guide you:\\n\\nSample query for adding new information in the leaves table: \\nINSERT INTO Leaves (EmployeeID, LeaveType, StartDate, EndDate, Status) VALUES (1, 'Vacation', '2024-04-01', '2024-04-15', 'Pending');\\n\\nAlways make sure employee id, LeaveType and StartDate are given, otherwise error out\\n\\nEmployee table has 11 columns, EmployeeID, FirstName, LastName, DateOfBirth, Gender, ContactInfo, Address, HireDate, DepartmentID, RoleID, Status\\n\\n\"}, {'role': 'user', 'content': 'what is leave type and status of employee 3'}, {'role': 'assistant', 'content': 'SELECT LeaveType, Status\\nFROM Leaves\\nWHERE EmployeeID = 3;'}, {'role': 'user', 'content': 'What is the total number of leaves, regardless of type or status, for employee 3?'}, {'role': 'assistant', 'content': 'SELECT COUNT(*) FROM Leaves WHERE EmployeeID = 3;'}, {'role': 'user', 'content': 'first 3 entries in employees table '}, {'role': 'assistant', 'content': 'SELECT * \\nFROM employees \\nLIMIT 3;'}, {'role': 'user', 'content': 'explain the details of 2nd employee'}, {'role': 'assistant', 'content': 'SELECT * \\nFROM Employees\\nWHERE EmployeeID = 2;'}, {'role': 'user', 'content': 'first 10 entries in employees table'}, {'role': 'assistant', 'content': 'SELECT * \\nFROM employees \\nLIMIT 10;'}, {'role': 'user', 'content': 'salary of john doe'}, {'role': 'assistant', 'content': \"SELECT BaseSalary, Deductions, Bonuses, NetSalary\\nFROM Salaries\\nJOIN Employees ON Salaries.EmployeeID = Employees.EmployeeID\\nWHERE Employees.FirstName = 'John' AND Employees.LastName = 'Doe';\"}, {'role': 'user', 'content': 'remove the leave of employee 3'}]\n",
      "{\"model\":\"mistral\",\"created_at\":\"2024-04-07T05:21:09.4549293Z\",\"message\":{\"role\":\"assistant\",\"content\":\"DELETE FROM Leaves\\nWHERE EmployeeID = 3;[\\n](Note: Be careful when using DELETE statement as it permanently removes records from the database.)\"},\"done\":true,\"total_duration\":2203493600,\"load_duration\":1183500,\"prompt_eval_count\":1392,\"prompt_eval_duration\":1299304000,\"eval_count\":37,\"eval_duration\":884351000}\n",
      "DELETE FROM Leaves\n",
      "WHERE EmployeeID = 3;[\n",
      "](Note: Be careful when using DELETE statement as it permanently removes records from the database.)\n"
     ]
    },
    {
     "name": "stderr",
     "output_type": "stream",
     "text": [
      "Exception in thread Thread-25 (process_request_thread):\n",
      "Traceback (most recent call last):\n",
      "  File \"F:\\Anaconda\\Lib\\site-packages\\vanna\\base\\base.py\", line 873, in run_sql_mysql\n",
      "    cs.execute(sql)\n",
      "  File \"F:\\Anaconda\\Lib\\site-packages\\pymysql\\cursors.py\", line 153, in execute\n",
      "    result = self._query(query)\n",
      "             ^^^^^^^^^^^^^^^^^^\n",
      "  File \"F:\\Anaconda\\Lib\\site-packages\\pymysql\\cursors.py\", line 322, in _query\n",
      "    conn.query(q)\n",
      "  File \"F:\\Anaconda\\Lib\\site-packages\\pymysql\\connections.py\", line 558, in query\n",
      "    self._affected_rows = self._read_query_result(unbuffered=unbuffered)\n",
      "                          ^^^^^^^^^^^^^^^^^^^^^^^^^^^^^^^^^^^^^^^^^^^^^^\n",
      "  File \"F:\\Anaconda\\Lib\\site-packages\\pymysql\\connections.py\", line 822, in _read_query_result\n",
      "    result.read()\n",
      "  File \"F:\\Anaconda\\Lib\\site-packages\\pymysql\\connections.py\", line 1200, in read\n",
      "    first_packet = self.connection._read_packet()\n",
      "                   ^^^^^^^^^^^^^^^^^^^^^^^^^^^^^^\n",
      "  File \"F:\\Anaconda\\Lib\\site-packages\\pymysql\\connections.py\", line 772, in _read_packet\n",
      "    packet.raise_for_error()\n",
      "  File \"F:\\Anaconda\\Lib\\site-packages\\pymysql\\protocol.py\", line 221, in raise_for_error\n",
      "    err.raise_mysql_exception(self._data)\n",
      "  File \"F:\\Anaconda\\Lib\\site-packages\\pymysql\\err.py\", line 143, in raise_mysql_exception\n",
      "    raise errorclass(errno, errval)\n",
      "pymysql.err.ProgrammingError: (1064, \"You have an error in your SQL syntax; check the manual that corresponds to your MySQL server version for the right syntax to use near '[\\n](Note: Be careful when using DELETE statement as it permanently removes recor' at line 2\")\n",
      "\n",
      "During handling of the above exception, another exception occurred:\n",
      "\n",
      "Traceback (most recent call last):\n",
      "  File \"F:\\Anaconda\\Lib\\threading.py\", line 1045, in _bootstrap_inner\n",
      "    self.run()\n",
      "  File \"F:\\Anaconda\\Lib\\threading.py\", line 982, in run\n",
      "    self._target(*self._args, **self._kwargs)\n",
      "  File \"F:\\Anaconda\\Lib\\socketserver.py\", line 691, in process_request_thread\n",
      "    self.finish_request(request, client_address)\n",
      "  File \"F:\\Anaconda\\Lib\\socketserver.py\", line 361, in finish_request\n",
      "    self.RequestHandlerClass(request, client_address, self)\n",
      "  File \"F:\\Anaconda\\Lib\\socketserver.py\", line 755, in __init__\n",
      "    self.handle()\n",
      "  File \"F:\\Anaconda\\Lib\\site-packages\\werkzeug\\serving.py\", line 361, in handle\n",
      "    super().handle()\n",
      "  File \"F:\\Anaconda\\Lib\\http\\server.py\", line 436, in handle\n",
      "    self.handle_one_request()\n",
      "  File \"F:\\Anaconda\\Lib\\http\\server.py\", line 424, in handle_one_request\n",
      "    method()\n",
      "  File \"F:\\Anaconda\\Lib\\site-packages\\werkzeug\\serving.py\", line 333, in run_wsgi\n",
      "    execute(self.server.app)\n",
      "  File \"F:\\Anaconda\\Lib\\site-packages\\werkzeug\\serving.py\", line 320, in execute\n",
      "    application_iter = app(environ, start_response)\n",
      "                       ^^^^^^^^^^^^^^^^^^^^^^^^^^^^\n",
      "  File \"F:\\Anaconda\\Lib\\site-packages\\flask\\app.py\", line 2552, in __call__\n",
      "    return self.wsgi_app(environ, start_response)\n",
      "           ^^^^^^^^^^^^^^^^^^^^^^^^^^^^^^^^^^^^^^\n",
      "  File \"F:\\Anaconda\\Lib\\site-packages\\flask\\app.py\", line 2529, in wsgi_app\n",
      "    response = self.full_dispatch_request()\n",
      "               ^^^^^^^^^^^^^^^^^^^^^^^^^^^^\n",
      "  File \"F:\\Anaconda\\Lib\\site-packages\\flask\\app.py\", line 1823, in full_dispatch_request\n",
      "    rv = self.dispatch_request()\n",
      "         ^^^^^^^^^^^^^^^^^^^^^^^\n",
      "  File \"F:\\Anaconda\\Lib\\site-packages\\flask\\app.py\", line 1799, in dispatch_request\n",
      "    return self.ensure_sync(self.view_functions[rule.endpoint])(**view_args)\n",
      "           ^^^^^^^^^^^^^^^^^^^^^^^^^^^^^^^^^^^^^^^^^^^^^^^^^^^^^^^^^^^^^^^^^\n",
      "  File \"F:\\Anaconda\\Lib\\site-packages\\vanna\\flask\\__init__.py\", line 93, in decorated\n",
      "    return f(*args, **field_values, **kwargs)\n",
      "           ^^^^^^^^^^^^^^^^^^^^^^^^^^^^^^^^^^\n",
      "  File \"F:\\Anaconda\\Lib\\site-packages\\vanna\\flask\\__init__.py\", line 275, in run_sql\n",
      "    df = vn.run_sql(sql=sql)\n",
      "         ^^^^^^^^^^^^^^^^^^^\n",
      "  File \"F:\\Anaconda\\Lib\\site-packages\\vanna\\base\\base.py\", line 884, in run_sql_mysql\n",
      "    raise ValidationError(e)\n",
      "vanna.exceptions.ValidationError: (1064, \"You have an error in your SQL syntax; check the manual that corresponds to your MySQL server version for the right syntax to use near '[\\n](Note: Be careful when using DELETE statement as it permanently removes recor' at line 2\")\n"
     ]
    }
   ],
   "source": [
    "app.run()"
   ]
  },
  {
   "cell_type": "code",
   "execution_count": null,
   "id": "49f298b4-e156-46b8-8b70-a258255a7116",
   "metadata": {},
   "outputs": [],
   "source": []
  }
 ],
 "metadata": {
  "kernelspec": {
   "display_name": "Python 3 (ipykernel)",
   "language": "python",
   "name": "python3"
  },
  "language_info": {
   "codemirror_mode": {
    "name": "ipython",
    "version": 3
   },
   "file_extension": ".py",
   "mimetype": "text/x-python",
   "name": "python",
   "nbconvert_exporter": "python",
   "pygments_lexer": "ipython3",
   "version": "3.11.7"
  }
 },
 "nbformat": 4,
 "nbformat_minor": 5
}
